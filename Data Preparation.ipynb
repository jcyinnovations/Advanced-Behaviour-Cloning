{
 "cells": [
  {
   "cell_type": "markdown",
   "metadata": {
    "deletable": true,
    "editable": true
   },
   "source": [
    "### 1. Data Preprocessing\n",
    "\n",
    "- Load the driving log \n",
    "- downsample 0.00 steering\n",
    "- Create a new array including L and R cameras in sequence\n",
    "- shuffle array"
   ]
  },
  {
   "cell_type": "code",
   "execution_count": 1,
   "metadata": {
    "collapsed": false,
    "deletable": true,
    "editable": true
   },
   "outputs": [
    {
     "name": "stdout",
     "output_type": "stream",
     "text": [
      "Loading metadata from driving_log.csv...\n",
      "Load 25968 Records\n"
     ]
    }
   ],
   "source": [
    "import numpy as np\n",
    "from numpy import genfromtxt\n",
    "import sys\n",
    "import matplotlib.image as mpimg\n",
    "\n",
    "print(\"Loading metadata from driving_log.csv...\")\n",
    "file_format = [('center','S64'),('left','S64'),('right','S64'),('steering', 'f8'),('throttle', 'f8')]\n",
    "metadata = genfromtxt('data/driving_log.csv', dtype=file_format, delimiter=',', skip_header=1, usecols=(0, 1, 2, 3, 4))\n",
    "metadata['steering'] = np.round(metadata['steering'], decimals=2)\n",
    "metadata['throttle'] = np.round(metadata['throttle'], decimals=2)\n",
    "print(\"Load {0} Records\".format(len(metadata)))\n",
    "\n",
    "# How to read image files\n",
    "#######################################################\n",
    "def image_file(name):\n",
    "    return \"data/{0}\".format(name.decode(\"utf-8\").strip())\n",
    "\n",
    "# Check that the data is valid and readable.\n",
    "#######################################################\n",
    "def scrub_data(data):\n",
    "    removals = []\n",
    "    # Check Image file names\n",
    "    for i in range(len(data)):\n",
    "        c = data[i]['center']\n",
    "        l = data[i]['left']\n",
    "        r = data[i]['right']\n",
    "        try:\n",
    "            c.decode('utf-8')\n",
    "            l.decode('utf-8')\n",
    "            r.decode('utf-8')\n",
    "        except:\n",
    "            print(\"Item {0} Corrupted\".format(i))\n",
    "            removals.append(i)\n",
    "            \n",
    "    if len(removals) > 0:\n",
    "        print(\"Removing {} Records...\".format(len(removals)))\n",
    "        data = np.delete(data, removals, 0)\n",
    "    # Check Image files for corruption\n",
    "    print(\"Checking for unreadable images...\")\n",
    "    removals = []\n",
    "    for i in range(len(data)):\n",
    "        c = image_file(data[i]['center'])\n",
    "        l = image_file(data[i]['left'])\n",
    "        r = image_file(data[i]['right'])\n",
    "        try:\n",
    "            mpimg.imread(c)\n",
    "            mpimg.imread(l)\n",
    "            mpimg.imread(r)\n",
    "        except:\n",
    "            print(\"Item {0} Corrupted\".format(i))\n",
    "            removals.append(i)\n",
    "    if len(removals) > 0:\n",
    "        print(\"Removing {} Records...\".format(len(removals)))\n",
    "        data = np.delete(data, removals, 0)\n",
    "    print(\"Scrubbing done.\")\n",
    "    return data\n"
   ]
  },
  {
   "cell_type": "code",
   "execution_count": 2,
   "metadata": {
    "collapsed": false,
    "deletable": true,
    "editable": true
   },
   "outputs": [
    {
     "name": "stdout",
     "output_type": "stream",
     "text": [
      "Removals 10874\n",
      "Keep 15094 Records\n"
     ]
    }
   ],
   "source": [
    "# Downsample 0.00 steering by find sequences of 0.00 steering and\n",
    "# keeping the first 2, middle 2 and last 2 images of the sequence\n",
    "##################################################################\n",
    "def downsample_zeros(data):\n",
    "    removals = []\n",
    "    cache = []\n",
    "    sequences = []\n",
    "    for r in range(len(data)):\n",
    "        if data[r]['steering'] == 0.00:\n",
    "            cache.append(r)\n",
    "        else:\n",
    "            size = len(cache)\n",
    "            sequences.append(size)\n",
    "            if size > 9:\n",
    "                #del cache[-1:]\n",
    "                #del cache[:1]\n",
    "                rem = round(len(cache)/2)\n",
    "                del cache[rem]\n",
    "                # Remove remainding entries from the data\n",
    "                #print(\"Removing\", cache)\n",
    "                removals = removals + cache\n",
    "                cache = []\n",
    "    #print(\"Zero Sequences\", sequences)\n",
    "    print('Removals', len(removals))\n",
    "    return np.delete(data, removals, axis=0)\n",
    "\n",
    "#metadata = scrub_data(metadata)\n",
    "cleansed = downsample_zeros(metadata)\n",
    "print(\"Keep\", len(cleansed), \"Records\")"
   ]
  },
  {
   "cell_type": "code",
   "execution_count": 3,
   "metadata": {
    "collapsed": false,
    "deletable": true,
    "editable": true
   },
   "outputs": [
    {
     "data": {
      "image/png": "[encoded data removed]",
      "text/plain": [
       "<matplotlib.figure.Figure at 0xf943ea3358>"
      ]
     },
     "metadata": {},
     "output_type": "display_data"
    }
   ],
   "source": [
    "import matplotlib.image as mpimg\n",
    "import matplotlib.pyplot as plt\n",
    "%matplotlib inline\n",
    "\n",
    "plt.figure(1)\n",
    "a = plt.hist(cleansed['steering']*25+25, bins=51)"
   ]
  },
  {
   "cell_type": "code",
   "execution_count": 4,
   "metadata": {
    "collapsed": false,
    "deletable": true,
    "editable": true
   },
   "outputs": [
    {
     "data": {
      "text/plain": [
       "(-0.036724531749657383, 0.21220568783191485, 0.0)"
      ]
     },
     "execution_count": 4,
     "metadata": {},
     "output_type": "execute_result"
    }
   ],
   "source": [
    "### Steering Stats\n",
    "#mean, stddev, median = np.mean(cleansed['steering']), np.std(cleansed['steering']), np.median(cleansed['steering'])\n",
    "mean1, stddev1, median1 = np.mean(metadata['steering']), np.std(metadata['steering']), np.median(metadata['steering'])\n",
    "mean1, stddev1, median1"
   ]
  },
  {
   "cell_type": "code",
   "execution_count": 8,
   "metadata": {
    "collapsed": false,
    "deletable": true,
    "editable": true
   },
   "outputs": [
    {
     "data": {
      "image/png": "[encoded data removed]",
      "text/plain": [
       "<matplotlib.figure.Figure at 0x7917a73a58>"
      ]
     },
     "metadata": {},
     "output_type": "display_data"
    }
   ],
   "source": [
    "plt.figure(1)\n",
    "a = plt.hist((metadata['steering'])*25+25, bins=51)"
   ]
  },
  {
   "cell_type": "markdown",
   "metadata": {
    "deletable": true,
    "editable": true
   },
   "source": [
    "### 2. Create a sequence including the L, R Cameras\n",
    "\n",
    "Assume the steering for the side cameras is the an adjusted version of the center camera:\n",
    "\n",
    "- $\\ C_{steering} = 0: L_{steering}=1.0, R_{steering}=-1.0$\n",
    "- $\\ C_{steering} > 0: L_{steering}=C, R_{steering}=1.0-C$\n",
    "- $\\ C_{steering} < 0: L_{steering}=1.0+C, R_{steering}=C$\n",
    "\n",
    "Where 'adjustment' is some factor based on the camera position. Starting assumption is 1"
   ]
  },
  {
   "cell_type": "code",
   "execution_count": 9,
   "metadata": {
    "collapsed": false,
    "deletable": true,
    "editable": true
   },
   "outputs": [
    {
     "name": "stdout",
     "output_type": "stream",
     "text": [
      "100, 200, 300, 400, 500, 600, 700, 800, 900, 1000, 1100, 1200, 1300, 1400, 1500, 1600, 1700, 1800, 1900, 2000, 2100, 2200, 2300, 2400, 2500, 2600, 2700, 2800, 2900, 3000, 3100, 3200, 3300, 3400, 3500, 3600, 3700, 3800, 3900, 4000, 4100, 4200, 4300, 4400, 4500, 4600, 4700, 4800, 4900, 5000, 5100, 5200, 5300, 5400, 5500, 5600, 5700, 5800, 5900, 6000, 6100, 6200, 6300, 6400, 6500, 6600, 6700, 6800, residual cache 92\n",
      "11130\n"
     ]
    }
   ],
   "source": [
    "def process_side_cameras(data):\n",
    "    record_types=[('image','S64'),('steering','f8'),('throttle','f8')]\n",
    "    augmented = np.empty([], dtype=record_types)\n",
    "    cache = []\n",
    "    samples = len(data)\n",
    "    \n",
    "    for i in range(samples):\n",
    "        c_steering = data[i]['steering']\n",
    "        #Calculate steering for side cameras\n",
    "        c = np.array((data[i]['center'], c_steering, data[i]['throttle']), dtype=record_types)\n",
    "        cache.append(c)\n",
    "        if c_steering == 0.0:\n",
    "            l_steering = 1.0\n",
    "            r_steering = -1.0\n",
    "        else:\n",
    "            if c_steering >= 0.25:\n",
    "                l_steering = c_steering\n",
    "                r_steering = c_steering - 1.0\n",
    "                l = np.array((data[i]['left'], l_steering, data[i]['throttle']), dtype=record_types)\n",
    "                cache.append(l)\n",
    "                r = np.array((data[i]['right'], r_steering, data[i]['throttle']), dtype=record_types)\n",
    "                cache.append(r)\n",
    "            else:\n",
    "                if c_steering <= -0.25:\n",
    "                    l_steering = 1.0 + c_steering\n",
    "                    r_steering = c_steering\n",
    "                    l = np.array((data[i]['left'], l_steering, data[i]['throttle']), dtype=record_types)\n",
    "                    cache.append(l)\n",
    "                    r = np.array((data[i]['right'], r_steering, data[i]['throttle']), dtype=record_types)\n",
    "                    cache.append(r)\n",
    "\n",
    "        # Transfer the cache to the array every 100 items\n",
    "        if i == 0:\n",
    "            continue\n",
    "        if i % 100 == 0:\n",
    "            augmented = np.append(augmented, cache)\n",
    "            cache = []\n",
    "            print(\"{0}, \".format(i), end=\"\")\n",
    "    if i % 100 > 0:\n",
    "        print(\"residual cache\",len(cache))\n",
    "        augmented = np.append(augmented, cache)\n",
    "    return augmented\n",
    "\n",
    "augmented = process_side_cameras(cleansed)\n",
    "print(len(augmented))"
   ]
  },
  {
   "cell_type": "code",
   "execution_count": 11,
   "metadata": {
    "collapsed": false,
    "deletable": true,
    "editable": true
   },
   "outputs": [
    {
     "data": {
      "image/png": "[encoded data removed]",
      "text/plain": [
       "<matplotlib.figure.Figure at 0x791911d588>"
      ]
     },
     "metadata": {},
     "output_type": "display_data"
    }
   ],
   "source": [
    "## Check the distribution of data\n",
    "\n",
    "plt.figure(2)\n",
    "a = plt.hist(augmented['steering'], bins=51)"
   ]
  },
  {
   "cell_type": "markdown",
   "metadata": {
    "deletable": true,
    "editable": true
   },
   "source": [
    "### 3. Additional augmentation using image translations\n",
    "\n",
    "#### TODO: Find a way to rotate images about the user's prespective (bottom center of image)"
   ]
  },
  {
   "cell_type": "code",
   "execution_count": 13,
   "metadata": {
    "collapsed": false,
    "deletable": true,
    "editable": true
   },
   "outputs": [],
   "source": [
    "# Adjust steering based on viewport\n",
    "# Put it in a separate function so its easy to change the scaling model\n",
    "##########################################################################\n",
    "def adjust_steering(c):\n",
    "    # Chosen adjustment is ~ 1 Std Dev of sample distribution\n",
    "    # Cap it at the maximum steering angle\n",
    "    if c == 0.0:\n",
    "        d = 0.1905\n",
    "        l = 0\n",
    "        r = 0\n",
    "    else:\n",
    "        d = 0.1905\n",
    "        if c < 0.0:              # left turn\n",
    "            l = (1-d) * c        # turn less\n",
    "            r = max((1+d) * c, c)# turn more\n",
    "        else:                    # right turn\n",
    "            l = min((1+d) * c, c)# turn more\n",
    "            r = (1-d) * c        # turn less\n",
    "        \n",
    "    return l, r\n",
    "\n",
    "def adjust_steering_simple(c):\n",
    "    residual = 0 * 0.1905 * np.random.uniform()\n",
    "    multiplier = abs(c)\n",
    "    base_adj = 0.5\n",
    "    l = multiplier * base_adj + residual\n",
    "    r = -1 * (multiplier * base_adj + residual)\n",
    "    return l, r\n",
    "\n",
    "def load_images(src, labels):\n",
    "    global viewport_labels\n",
    "    img_cache = []\n",
    "    label_cache = []\n",
    "    img_array = None\n",
    "    label_array = None\n",
    "    for i in range(len(src)):\n",
    "        img = mpimg.imread( image_file(src[i]) )\n",
    "        # Split the image into three 100,100 viewports to augment samples and resize to 224,224\n",
    "        img_c, img_l, img_r = get_viewports(img)\n",
    "        steer_c = labels[i]\n",
    "        steer_l, steer_r = adjust_steering(steer_c)\n",
    "        if i == 0:\n",
    "            img_array = np.array([img_c, img_l, img_r])\n",
    "            label_array = np.array([steer_c, steer_l, steer_r])\n",
    "        else:\n",
    "            img_cache = img_cache + [img_c, img_l, img_r]\n",
    "            label_cache = label_cache + [steer_c, steer_l, steer_r]\n",
    "    try:\n",
    "        img_array = np.append(img_array, img_cache, axis=0)\n",
    "        label_array = np.append(label_array, label_cache, axis=0)\n",
    "        if viewport_labels is None:\n",
    "            viewport_labels = label_array\n",
    "        else:\n",
    "            viewport_labels = np.append(viewport_labels, label_array)\n",
    "    except:\n",
    "        print(\"Error loading images\", len(img_array), \"Cache\", len(img_cache))\n",
    "    return img_array, label_array\n",
    "\n",
    "def load_LR_labels(x_data, y_data):\n",
    "    label_cache = []\n",
    "    img_cache = []\n",
    "    label_array = None\n",
    "    img_array = None\n",
    "    for i in range(len(y_data)):\n",
    "        img = x_data[i].decode(\"utf-8\").strip()\n",
    "        steer_c = y_data[i]\n",
    "        img_c = img + \"#C\"\n",
    "        img_l = img + \"#L\"\n",
    "        img_r = img + \"#R\"\n",
    "        steer_l, steer_r = adjust_steering_simple(steer_c)\n",
    "        if steer_c == 0.0:\n",
    "            new_images = [img_c]\n",
    "            new_labels = [steer_c]\n",
    "        else:\n",
    "            new_images = [img_c, img_l, img_r]\n",
    "            new_labels = [steer_c, steer_l, steer_r]\n",
    "        if i == 0:\n",
    "            label_array = np.array(new_labels)\n",
    "            img_array = np.array(new_images)\n",
    "        else:\n",
    "            label_cache = label_cache + new_labels\n",
    "            img_cache   = img_cache   + new_images\n",
    "    try:\n",
    "        label_array = np.append(label_array, label_cache, axis=0)\n",
    "        img_array   = np.append(img_array, img_cache, axis=0)\n",
    "    except:\n",
    "        print(\"Error loading labels\", len(label_array), \"Cache\", len(label_cache))\n",
    "    print(\"Lengths\", len(img_array), len(label_array))\n",
    "    return img_array, label_array\n"
   ]
  },
  {
   "cell_type": "code",
   "execution_count": 22,
   "metadata": {
    "collapsed": false,
    "deletable": true,
    "editable": true
   },
   "outputs": [
    {
     "name": "stdout",
     "output_type": "stream",
     "text": [
      "Top 10 classes [ 50  49  96  98 100]\n",
      "Top 10 counts [  10   10  369  409 9255] Target Count 81.7960199005 81.7960199005\n",
      "Removing samples over target count...\n",
      "removing 53  from class  73\n",
      "removing 24  from class  75\n",
      "removing 69  from class  78\n",
      "removing 26  from class  79\n",
      "removing 98  from class  81\n",
      "removing 44  from class  83\n",
      "removing 178  from class  85\n",
      "removing 98  from class  86\n",
      "removing 186  from class  88\n",
      "removing 24  from class  89\n",
      "removing 165  from class  91\n",
      "removing 102  from class  92\n",
      "removing 247  from class  93\n",
      "removing 119  from class  94\n",
      "removing 30  from class  95\n",
      "removing 287  from class  96\n",
      "removing 327  from class  98\n",
      "removing 9173  from class  100\n",
      "removing 14  from class  101\n",
      "removing 61  from class  104\n",
      "removing 17  from class  105\n",
      "removing 16  from class  106\n",
      "removing 16  from class  107\n",
      "removing 115  from class  109\n",
      "removing 29  from class  110\n",
      "removing 47  from class  113\n",
      "removing 61  from class  117\n",
      "removing 181  from class  118\n",
      "Adding samples to target count...\n",
      "class 0 copies 76\tclass 5 copies 80\tclass 6 copies 79\tclass 7 copies 80\tclass 8 copies 80\tclass 11 copies 80\tclass 12 copies 78\tclass 16 copies 80\tclass 17 copies 80\tclass 18 copies 80\tclass 19 copies 78\tclass 22 copies 79\tclass 23 copies 80\tclass 24 copies 79\tclass 26 copies 79\tclass 27 copies 80\tclass 28 copies 79\tclass 29 copies 80\tclass 31 copies 78\tclass 32 copies 79\tclass 33 copies 80\tclass 34 copies 79\tclass 37 copies 79\tclass 38 copies 80\tclass 39 copies 78\tclass 40 copies 79\tclass 41 copies 79\tclass 42 copies 77\tclass 43 copies 79\tclass 46 copies 75\tclass 47 copies 77\tclass 48 copies 71\tclass 49 copies 71\tclass 50 copies 71\tclass 51 copies 76\tclass 52 copies 78\tclass 53 copies 77\tclass 54 copies 72\tclass 55 copies 60\tclass 56 copies 65\tclass 57 copies 70\tclass 58 copies 70\tclass 59 copies 60\tclass 60 copies 75\tclass 61 copies 61\tclass 62 copies 63\tclass 63 copies 66\tclass 64 copies 58\tclass 65 copies 66\tclass 66 copies 51\tclass 67 copies 61\tclass 68 copies 49\tclass 69 copies 46\tclass 70 copies 3\tclass 71 copies 27\tclass 72 copies 32\tclass 74 copies 55\tclass 76 copies 44\tclass 77 copies 9\tclass 80 copies 6\tclass 82 copies 35\tclass 84 copies 0\tclass 87 copies 23\tclass 90 copies 6\tclass 97 copies 2\tclass 99 copies 24\tclass 102 copies 19\tclass 103 copies 42\tclass 108 copies 47\tclass 111 copies 60\tclass 112 copies 53\tclass 114 copies 39\tclass 115 copies 28\tclass 116 copies 3\tclass 119 copies 41\tclass 120 copies 5\tclass 121 copies 36\tclass 122 copies 70\tclass 123 copies 36\tclass 124 copies 67\tclass 125 copies 42\tclass 126 copies 41\tclass 127 copies 37\tclass 128 copies 48\tclass 129 copies 62\tclass 130 copies 36\tclass 131 copies 46\tclass 132 copies 61\tclass 133 copies 44\tclass 134 copies 78\tclass 135 copies 51\tclass 136 copies 45\tclass 137 copies 55\tclass 138 copies 66\tclass 139 copies 74\tclass 140 copies 76\tclass 141 copies 72\tclass 142 copies 64\tclass 143 copies 73\tclass 144 copies 77\tclass 145 copies 67\tclass 146 copies 71\tclass 147 copies 76\tclass 148 copies 76\tclass 149 copies 75\tclass 150 copies 78\tclass 151 copies 75\tclass 153 copies 78\tclass 154 copies 80\tclass 155 copies 79\tclass 158 copies 78\tclass 159 copies 78\tclass 163 copies 80\tclass 164 copies 80\tclass 165 copies 77\tclass 166 copies 79\tclass 172 copies 80\tclass 173 copies 80\tclass 182 copies 80\tclass 185 copies 80\tclass 186 copies 80\tclass 196 copies 80\tclass 200 copies 75\t\n",
      "Balancing Sample size 12259\n",
      "Balanced 12259\n"
     ]
    }
   ],
   "source": [
    "from ImageProcessing import balance_dataset, data_binning, transform_image\n",
    "import matplotlib.image as mpimg\n",
    "\n",
    "# Balance the dataset so each class is equally represented\n",
    "def balancing(x_data, y_data):\n",
    "    x_train, y_train, = x_data, y_data\n",
    "    y_train = np.round(y_train*100)+100\n",
    "    n_classes = 201\n",
    "    bins, X_train_binned, y_train_binned, bin_count = data_binning(x_train, y_train, n_classes)\n",
    "    # Sample metrics\n",
    "    mean = np.mean(bin_count)\n",
    "    median = np.median(bin_count)\n",
    "    bin_count_array = np.array(bin_count)\n",
    "    top10 = np.argpartition(bin_count_array, -2)[-5:]\n",
    "    top_counts = bin_count_array[top10]\n",
    "    target_count = int(np.mean(top_counts))\n",
    "    target_count = mean\n",
    "    print(\"Top 10 classes\", top10)\n",
    "    print(\"Top 10 counts\", top_counts, \"Target Count\", target_count, mean)\n",
    "\n",
    "    #Downsample to mean\n",
    "    print(\"Removing samples over target count...\")\n",
    "    removal_list = None\n",
    "    for i in range(n_classes):\n",
    "        if bin_count[i] > target_count:\n",
    "            removal_count = int((bin_count[i] - target_count) )\n",
    "            print(\"removing\",removal_count, \" from class \", i)\n",
    "            #generate a list of random removals\n",
    "            removal_idx = np.random.choice(bin_count[i], size=removal_count, replace=False)\n",
    "            if removal_list is None:\n",
    "                removal_list = bins[i][removal_idx.tolist()]\n",
    "            else:\n",
    "                removal_list = np.append(removal_list, bins[i][removal_idx.tolist()])\n",
    "    #Now remove the targeted samples\n",
    "    x_train = np.delete(x_train, removal_list, axis=0)\n",
    "    y_train = np.delete(y_train, removal_list, axis=0)\n",
    "    \n",
    "    # minimum times a sample should be seen\n",
    "    #Now Add new samples for under average classes\n",
    "    print(\"Adding samples to target count...\")\n",
    "    for i in range(n_classes):\n",
    "        # Just augment classes where count > median\n",
    "        if bin_count[i] >= 1 and bin_count[i] < target_count:\n",
    "            add_count = int((target_count-bin_count[i]))\n",
    "            #pick images at random to copy n times\n",
    "            src_idx = np.random.choice(bin_count[i], size=add_count, replace=add_count>bin_count[i])\n",
    "            print(\"class\", i, \"copies\", add_count, end=\"\\t\")\n",
    "            new_img_list = []\n",
    "            new_label_list = []\n",
    "            for src in range(add_count):\n",
    "                #For now, just copy existing images. In the future, shift them and adjust the angle appropriately\n",
    "                target_file = X_train_binned[i][src_idx[src]]\n",
    "                new_img_list.append(target_file)\n",
    "                new_label_list.append(i)\n",
    "            x_train = np.append(x_train, new_img_list)\n",
    "            y_train = np.append(y_train, new_label_list)\n",
    "    print(\"\\nBalancing Sample size\", len(x_train))\n",
    "    return x_train, (y_train-100)/100\n",
    "\n",
    "x_data, y_data = metadata['center'], metadata['steering']\n",
    "x_train, y_train = balancing(x_data, y_data)\n",
    "print(\"Balanced\", len(y_train))"
   ]
  },
  {
   "cell_type": "code",
   "execution_count": 29,
   "metadata": {
    "collapsed": false,
    "deletable": true,
    "editable": true
   },
   "outputs": [
    {
     "data": {
      "text/plain": [
       "(-0.027027012263403705, 0.34119424681574917)"
      ]
     },
     "execution_count": 29,
     "metadata": {},
     "output_type": "execute_result"
    },
    {
     "data": {
      "image/png": "[encoded data removed]",
      "text/plain": [
       "<matplotlib.figure.Figure at 0x2283944c518>"
      ]
     },
     "metadata": {},
     "output_type": "display_data"
    }
   ],
   "source": [
    "plt.figure(2)\n",
    "a = plt.hist(y_train*100+100, bins=21)\n",
    "\n",
    "#Check for wonky values in image names\n",
    "#augmented = np.delete(augmented, 0, 0)\n",
    "#for i in range(1,len(augmented)):\n",
    "#    print(i, augmented[i]['image'].decode('utf-8'), end=\"|\")\n",
    "#Remove the first record\n",
    "#augmented = np.delete(augmented, 0, 0)\n",
    "np.mean(y_train), np.std(y_train)"
   ]
  },
  {
   "cell_type": "code",
   "execution_count": 50,
   "metadata": {
    "collapsed": false,
    "deletable": true,
    "editable": true
   },
   "outputs": [
    {
     "name": "stdout",
     "output_type": "stream",
     "text": [
      "Lengths 22061 22061\n",
      "W/Viewports 22061\n"
     ]
    },
    {
     "data": {
      "text/plain": [
       "(-0.012654911382076967, 0.13997618443144091)"
      ]
     },
     "execution_count": 50,
     "metadata": {},
     "output_type": "execute_result"
    },
    {
     "data": {
      "image/png": "[encoded data removed]",
      "text/plain": [
       "<matplotlib.figure.Figure at 0x22839539208>"
      ]
     },
     "metadata": {},
     "output_type": "display_data"
    }
   ],
   "source": [
    "x_train, y_train = cleansed['center'], cleansed['steering']\n",
    "x_train, y_train = load_LR_labels(x_train, y_train)#load_labels_only(cleansed['steering'])\n",
    "print('W/Viewports', len(y_train))\n",
    "\n",
    "plt.figure(2)\n",
    "a = plt.hist(y_train*100+100, bins=21)\n",
    "\n",
    "np.mean(y_train), np.std(y_train)"
   ]
  },
  {
   "cell_type": "code",
   "execution_count": null,
   "metadata": {
    "collapsed": false,
    "deletable": true,
    "editable": true
   },
   "outputs": [],
   "source": [
    "from sklearn.model_selection import train_test_split\n",
    "import numpy as np\n",
    "from sklearn.utils import shuffle\n",
    "\n",
    "def create_datasets(x_data, y_data):\n",
    "    # Create Training and validation sets from the data\n",
    "    n_classes = 201\n",
    "    x_train, y_train = shuffle(x_data, y_data)\n",
    "    x_train, x_val, y_train, y_val = train_test_split(x_train, y_train, test_size=0.10, random_state=42)\n",
    "    return x_train, y_train, x_val, y_val, n_classes\n",
    "\n",
    "x_train, y_train, x_val, y_val, n_classes = create_datasets(x_train, y_train)"
   ]
  },
  {
   "cell_type": "code",
   "execution_count": null,
   "metadata": {
    "collapsed": false,
    "deletable": true,
    "editable": true
   },
   "outputs": [],
   "source": [
    "#Check for wonky values in image names\n",
    "for i in range(len(x_train)):\n",
    "    print(i, x_train[i].decode('utf-8'), end=\"|\")"
   ]
  },
  {
   "cell_type": "code",
   "execution_count": null,
   "metadata": {
    "collapsed": true,
    "deletable": true,
    "editable": true
   },
   "outputs": [],
   "source": []
  }
 ],
 "metadata": {
  "anaconda-cloud": {},
  "kernelspec": {
   "display_name": "Python 3",
   "language": "python",
   "name": "python3"
  },
  "language_info": {
   "codemirror_mode": {
    "name": "ipython",
    "version": 3
   },
   "file_extension": ".py",
   "mimetype": "text/x-python",
   "name": "python",
   "nbconvert_exporter": "python",
   "pygments_lexer": "ipython3",
   "version": "3.5.3"
  }
 },
 "nbformat": 4,
 "nbformat_minor": 1
}
